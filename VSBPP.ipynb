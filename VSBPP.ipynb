{
 "cells": [
  {
   "cell_type": "code",
   "execution_count": 81,
   "metadata": {},
   "outputs": [],
   "source": [
    "import random\n",
    "import pprint\n",
    "import time\n",
    "import copy\n",
    "import uuid\n"
   ]
  },
  {
   "cell_type": "code",
   "execution_count": 82,
   "metadata": {},
   "outputs": [
    {
     "data": {
      "image/png": "[encoded data removed]",
      "text/plain": [
       "<Figure size 640x480 with 1 Axes>"
      ]
     },
     "metadata": {},
     "output_type": "display_data"
    }
   ],
   "source": [
    "import matplotlib.pyplot as plt\n",
    "\n",
    "# Define the list of data\n",
    "data = [0, 78, 88, 52, 77, 17, 85, 39, 95, 37, 58, 39, 21,\n",
    "        53, 10, 69, 81, 28, 32, 48, 56, 88, 59, 29, 97, 43]\n",
    "\n",
    "# Define the number of bins and width of each bin\n",
    "num_bins = 10\n",
    "bin_width = 10\n",
    "\n",
    "# Define the minimum and maximum values of the x-axis\n",
    "x_min = 0\n",
    "x_max = 100\n",
    "\n",
    "# Create the histogram\n",
    "plt.hist(data, bins=num_bins, range=(x_min, x_max), width=bin_width)\n",
    "\n",
    "# Set the x-axis and y-axis labels and title\n",
    "plt.xlabel('Value')\n",
    "plt.ylabel('Frequency')\n",
    "plt.title('Histogram of Data')\n",
    "\n",
    "# Display the histogram\n",
    "plt.show()\n"
   ]
  },
  {
   "cell_type": "code",
   "execution_count": 83,
   "metadata": {},
   "outputs": [],
   "source": [
    "# weights = [0,]\n",
    "# for x in range(26):\n",
    "#     w = random.randint(1,100)\n",
    "#     weights.append(w)"
   ]
  },
  {
   "cell_type": "code",
   "execution_count": 84,
   "metadata": {},
   "outputs": [
    {
     "name": "stdout",
     "output_type": "stream",
     "text": [
      "{'item1': 78, 'item2': 88, 'item3': 52, 'item4': 77, 'item5': 17, 'item6': 85, 'item7': 39, 'item8': 95, 'item9': 37, 'item10': 58, 'item11': 39, 'item12': 21, 'item13': 53, 'item14': 10, 'item15': 69, 'item16': 81, 'item17': 28, 'item18': 32, 'item19': 48, 'item20': 56, 'item21': 88, 'item22': 59, 'item23': 29, 'item24': 97, 'item25': 43} {1: {'cost': 60, 'capacity': 60, 'probability': 1.0}, 2: {'cost': 100, 'capacity': 100, 'probability': 1.0}, 3: {'cost': 150, 'capacity': 150, 'probability': 1.0}}\n"
     ]
    }
   ],
   "source": [
    "itemsInfo = {}\n",
    "binsInfo = {}\n",
    "probabilites = [0,]\n",
    "weights = [0,78, 88, 52, 77, 17, 85, 39, 95, 37, 58, 39, 21,53, 10, 69, 81, 28, 32, 48, 56, 88, 59, 29, 97, 43]\n",
    "capacitites = [0,60, 100, 150]\n",
    "costs = [0, 60, 100, 150]\n",
    "\n",
    "\n",
    "for x in range(1,len(capacitites)):\n",
    "    probabilites.append(capacitites[x]/costs[x])\n",
    "\n",
    "for x in range(1,26):\n",
    "    itemsInfo[f\"item{x}\"] = weights[x]\n",
    "\n",
    "for x in range(1, 4):\n",
    "    binsInfo[x] = {\n",
    "        \"cost\": capacitites[x],\n",
    "        \"capacity\": costs[x],\n",
    "        \"probability\":  probabilites[x]\n",
    "    }\n",
    "\n",
    "print(itemsInfo,binsInfo)\n"
   ]
  },
  {
   "cell_type": "code",
   "execution_count": 85,
   "metadata": {},
   "outputs": [],
   "source": [
    "def GenerateInitialSolution() :\n",
    "    solution = {}\n",
    "    s = 1\n",
    "    for id,w in itemsInfo.items():\n",
    "        newId = uuid.uuid4()\n",
    "        validBinTypes = list(filter(lambda bin : binsInfo[bin][\"capacity\"] > w,binsInfo ))\n",
    "        validProbabilites = tuple(map(lambda bin: binsInfo[bin][\"probability\"], validBinTypes))\n",
    "        selectedBin = random.choices(validBinTypes,weights=validProbabilites,k=1)[0]\n",
    "        remainingCapacity = binsInfo[selectedBin][\"capacity\"] - itemsInfo[id] \n",
    "        solution[newId] = {\"bin_type\": selectedBin, \"item_ids\": [id], \"remaining_capacity\": remainingCapacity}\n",
    "        s+= 1\n",
    "    return solution"
   ]
  },
  {
   "cell_type": "code",
   "execution_count": 86,
   "metadata": {},
   "outputs": [],
   "source": [
    "def Cost(x : dict):\n",
    "    totalCost = 0\n",
    "    for info in x.values() :\n",
    "        totalCost += binsInfo[info[\"bin_type\"]][\"cost\"]\n",
    "    return totalCost"
   ]
  },
  {
   "cell_type": "code",
   "execution_count": 87,
   "metadata": {},
   "outputs": [],
   "source": [
    "def ChooseNeightbourhood(c1,c2,c3) :\n",
    "    k = random.choices([1,2,3],weights=(c1,c2,c3),k=1)[0]\n",
    "    return k\n"
   ]
  },
  {
   "cell_type": "code",
   "execution_count": 88,
   "metadata": {},
   "outputs": [],
   "source": [
    "def RemainingCapacity(x,id):\n",
    "    capacity = binsInfo[x[id][\"bin_type\"]][\"cost\"]\n",
    "    weight = 0\n",
    "    if len(x[id][\"item_ids\"]) == 0 :\n",
    "        return capacity\n",
    "    for itemId in x[id][\"item_ids\"]:\n",
    "        weight += itemsInfo[itemId]\n",
    "    return capacity - weight"
   ]
  },
  {
   "cell_type": "code",
   "execution_count": 89,
   "metadata": {},
   "outputs": [],
   "source": [
    "def GetWeight(id):\n",
    "    return itemsInfo[id]\n",
    "\n",
    "def UnpackRepack(x : dict,binId,newCapacity,newBinType) :\n",
    "    \n",
    "    cap = newCapacity\n",
    "    unpackedItems = []\n",
    "\n",
    "    #Unpacking \n",
    "    while cap < 0 :\n",
    "        unpackedItem = random.choice(x[binId][\"item_ids\"])\n",
    "        unpackedItems.append(unpackedItem)\n",
    "        x[binId][\"item_ids\"].remove(unpackedItem)\n",
    "        cap += itemsInfo[unpackedItem]\n",
    "    x[binId][\"remaining_capacity\"] = cap\n",
    "\n",
    "    if (len(x[binId][\"item_ids\"]) == 0) :\n",
    "        del x[binId]\n",
    "\n",
    "    #Repacking\n",
    "    unpackedItems.sort(key=GetWeight,reverse=True)\n",
    "    for id in unpackedItems:\n",
    "        validBins = list(filter(lambda bin: x[bin][\"remaining_capacity\"] > itemsInfo[id], x.keys()))\n",
    "        if (len(validBins) == 0):\n",
    "            newId = uuid.uuid4()\n",
    "            validBinTypes = list(filter(lambda bin: binsInfo[bin][\"capacity\"] > itemsInfo[id], binsInfo))\n",
    "            validProbabilites = tuple(map(lambda bin: binsInfo[bin][\"probability\"], validBinTypes))\n",
    "            selectedBin = random.choices(validBinTypes, weights=validProbabilites, k=1)[0]\n",
    "            remainingCapacity = binsInfo[selectedBin][\"capacity\"] - itemsInfo[id]\n",
    "            x[newId] = {\"bin_type\": selectedBin, \"item_ids\": [id], \"remaining_capacity\": remainingCapacity}\n",
    "        else :\n",
    "            validProbabilites = tuple(map(lambda bin: x[bin][\"remaining_capacity\"], validBins))\n",
    "            # print(f\"Item : {id} {itemsInfo[id]} | Bins : {validBins} {validProbabilites}\")\n",
    "            selectedBin = random.choices(validBins, weights=validProbabilites, k=1)[0]\n",
    "            x[selectedBin][\"item_ids\"].append(id)\n",
    "            x[selectedBin][\"remaining_capacity\"] = RemainingCapacity(x, selectedBin)\n",
    "            # print(f\"{selectedBin} {x[selectedBin]['remaining_capacity']} \")\n",
    "\n",
    "\n",
    "    return x\n"
   ]
  },
  {
   "cell_type": "code",
   "execution_count": 90,
   "metadata": {},
   "outputs": [],
   "source": [
    "def ValidateSolution(x : dict):\n",
    "    for id,info in x.items():\n",
    "        print(f\"Bin type : {info['bin_type']} | Item ID : {info['item_ids']} | Remaining Capacity :{info['remaining_capacity']}\")\n",
    "        weight = 0\n",
    "        for itemId in info['item_ids'] :\n",
    "            weight += itemsInfo[itemId]\n",
    "        capacity = binsInfo[info['bin_type']]['capacity']\n",
    "        # print(f\"Calculated Weight {weight} | Calculated Capacity {capacity} | Calculated Remaining Capacity : {capacity - weight}\")\n",
    "        print(\"\")"
   ]
  },
  {
   "cell_type": "code",
   "execution_count": 91,
   "metadata": {},
   "outputs": [],
   "source": [
    "def Shaking(x, k):\n",
    "    if (k == 1):\n",
    "        shook = N1(x)\n",
    "    else:\n",
    "        return x\n",
    "    return shook\n",
    "\n",
    "\n",
    "def N1(x: dict):\n",
    "    binIds = list(x.keys())\n",
    "    selected_length = int(len(binIds)*0.15)\n",
    "    bin_samples = random.sample(binIds, selected_length)\n",
    "    for binId in bin_samples:\n",
    "        newBinType = random.choice(\n",
    "            [i for i in range(1, 4) if i != x[binId][\"bin_type\"]])\n",
    "        oldCapacity = RemainingCapacity(x, binId)\n",
    "        oldBinType = x[binId][\"bin_type\"]\n",
    "        x[binId][\"bin_type\"] = newBinType\n",
    "        newCapacity = RemainingCapacity(x, binId)\n",
    "        x[binId][\"remaining_capacity\"] = newCapacity\n",
    "        # print(f\"{binId} | New : {newBinType} {newCapacity} | Old : {oldBinType} {oldCapacity}\")\n",
    "\n",
    "        if newCapacity < 0:\n",
    "            x = UnpackRepack(x, binId, newCapacity, newBinType)\n",
    "    return x\n"
   ]
  },
  {
   "cell_type": "code",
   "execution_count": null,
   "metadata": {},
   "outputs": [],
   "source": []
  },
  {
   "cell_type": "code",
   "execution_count": 92,
   "metadata": {},
   "outputs": [],
   "source": [
    "def GetCapacity(bin):\n",
    "    return bin[\"remaining_capacity\"]\n",
    "\n",
    "\n",
    "def N4(x : dict):\n",
    "    itemStuff = {}\n",
    "    for id,info in x.items() :\n",
    "        for itemId in info[\"item_ids\"]:\n",
    "            itemStuff[itemId] = {\"bin_id\": id, \"remaining_capacity\": info[\"remaining_capacity\"]}\n",
    "    for id in itemsInfo :\n",
    "        binA = itemStuff[id] \n",
    "        validBins = list(filter(lambda bin: x[bin][\"remaining_capacity\"] > itemsInfo[id] and x[bin][\"remaining_capacity\"] - itemsInfo[id] < binA[\"remaining_capacity\"] and bin != binA[\"bin_id\"], x.keys()))\n",
    "        validBinInfo = list(map(lambda bin: {\"remaining_capacity\": x[bin][\"remaining_capacity\"], \"bin_id\": bin}, validBins))\n",
    "        validBinInfo.sort(key=GetCapacity)\n",
    "        if len(validBinInfo) == 0 :\n",
    "            continue \n",
    "        binB = validBinInfo[0]\n",
    "        # print(itemsInfo[id],binA, binB)\n",
    "\n",
    "        x[binA[\"bin_id\"]][\"item_ids\"].remove(id)\n",
    "        x[binA[\"bin_id\"]][\"remaining_capacity\"] = RemainingCapacity(x, binA[\"bin_id\"])\n",
    "        if (len(x[binA[\"bin_id\"]][\"item_ids\"]) == 0):\n",
    "            del x[binA[\"bin_id\"]]\n",
    "\n",
    "        x[binB[\"bin_id\"]][\"item_ids\"].append(id)\n",
    "        x[binB[\"bin_id\"]][\"remaining_capacity\"] = RemainingCapacity(x, binB[\"bin_id\"])\n",
    "        \n",
    "        # print(\"After Shift :\")\n",
    "        # print(x[binA[\"bin_id\"]], x[binB[\"bin_id\"]])\n",
    "        # print()\n",
    "    return x\n",
    "\n",
    "def N5(x : dict):\n",
    "    print(x)\n",
    "\n",
    "def LocalSearch(x1):\n",
    "    x3 = N4(x1)\n",
    "    # x4 = N5(x3)\n",
    "    # x5 = N6(x4)\n",
    "\n",
    "    return x3\n",
    "\n",
    "\n",
    "def LocalSearchv2(x1):\n",
    "    x3 = N4(x1)\n",
    "    x4 = N5(x3)\n",
    "    # x5 = N6(x4)\n",
    "\n",
    "    return x4\n"
   ]
  },
  {
   "cell_type": "code",
   "execution_count": 93,
   "metadata": {},
   "outputs": [
    {
     "name": "stdout",
     "output_type": "stream",
     "text": [
      "{UUID('167c5a3e-9b48-4795-a4bf-d0b6708ff145'): {'bin_type': 3, 'item_ids': ['item3', 'item24'], 'remaining_capacity': 1}, UUID('5bbe11e1-57fa-418b-a459-b036a70c8b52'): {'bin_type': 2, 'item_ids': ['item8'], 'remaining_capacity': 5}, UUID('728cf1ad-fc97-42e1-b23f-83402f2dc0d3'): {'bin_type': 2, 'item_ids': ['item10', 'item7'], 'remaining_capacity': 3}, UUID('8d303deb-4e7d-4957-be67-5e40cb055c4e'): {'bin_type': 1, 'item_ids': ['item9'], 'remaining_capacity': 23}, UUID('9f4c234f-d29a-4f22-a101-7b7d13abfde2'): {'bin_type': 1, 'item_ids': ['item13'], 'remaining_capacity': 7}, UUID('a82f468b-5106-4369-9015-dadae851c8fb'): {'bin_type': 2, 'item_ids': ['item1'], 'remaining_capacity': 22}, UUID('e5f5720c-2f05-49de-a9ef-cd49432cd964'): {'bin_type': 2, 'item_ids': ['item15', 'item12'], 'remaining_capacity': 10}, UUID('3264e980-f5ed-41c0-a051-caf2bcd5fb07'): {'bin_type': 2, 'item_ids': ['item16', 'item5'], 'remaining_capacity': 2}, UUID('274f66a5-87fb-48ee-a437-31f1ce44475a'): {'bin_type': 3, 'item_ids': ['item18', 'item6', 'item23'], 'remaining_capacity': 4}, UUID('08185ee0-119d-4596-bb3d-fb08c64eaed0'): {'bin_type': 1, 'item_ids': ['item19', 'item14'], 'remaining_capacity': 2}, UUID('5ff110ba-459a-4360-b81f-d65a5f0fc17b'): {'bin_type': 3, 'item_ids': ['item20', 'item4'], 'remaining_capacity': 17}, UUID('1346776c-c3fb-4923-b6a6-94a20ed14809'): {'bin_type': 2, 'item_ids': ['item21'], 'remaining_capacity': 12}, UUID('cf47a0ac-8c8c-4bd3-8569-1f3afbe8a949'): {'bin_type': 3, 'item_ids': ['item22', 'item2'], 'remaining_capacity': 3}, UUID('1549c11f-08f5-491c-913e-d2900da00503'): {'bin_type': 1, 'item_ids': ['item17'], 'remaining_capacity': 32}, UUID('cb24a337-1252-4c40-810a-58dace9696d0'): {'bin_type': 2, 'item_ids': ['item25', 'item11'], 'remaining_capacity': 18}}\n"
     ]
    }
   ],
   "source": [
    "def N1N4N5():\n",
    "    x = GenerateInitialSolution()\n",
    "    # print(f\"Initial Bins Used {len(x.keys())}\")\n",
    "    oldX = copy.deepcopy(x)\n",
    "    x1 = Shaking(x, 1)\n",
    "    x2 = LocalSearchv2(x1)\n",
    "    # print(f\"Initial Cost {Cost(x)}\\n\")\n",
    "    # ValidateSolution(x)\n",
    "    # finish = False\n",
    "    # count = 0\n",
    "    # c1, c2, c3 = 0, 1, 1\n",
    "    # startTime = time.time()\n",
    "    # while not finish:\n",
    "    #     #     # k = ChooseNeightbourhood(c1,c2,c3)\n",
    "    #     oldX = copy.deepcopy(x)\n",
    "    #     count += 1\n",
    "    #     x1 = Shaking(x, 1)\n",
    "    #     x2 = LocalSearchv2(x1)\n",
    "    #     # print(f\"Old Cost : {Cost(oldX)} New Cost : {Cost(x2)}\")\n",
    "    #     if (Cost(x2) < Cost(oldX)):\n",
    "    #         c1 += 1\n",
    "    #         updatedTime = time.time()\n",
    "    #         x = x2\n",
    "    #     else:\n",
    "    #         x = oldX\n",
    "    #     if (time.time() - startTime > 1):\n",
    "    #         finish = True\n",
    "    # totalTime = updatedTime - startTime\n",
    "    # print(f\"Total Bins Used {len(x.keys())}\")\n",
    "    # print(f\"Final Optimised Cost {Cost(x)}\")\n",
    "    # print(f\"Last updated time : {totalTime}\")\n",
    "    # print(\"\")\n",
    "    # ValidateSolution(x)\n",
    "\n",
    "    # return Cost(x),totalTime\n",
    "\n",
    "# N1N4N5_COST,N1N4N5_TIME = N1N4N5()\n",
    "\n",
    "N1N4N5()"
   ]
  },
  {
   "cell_type": "code",
   "execution_count": 94,
   "metadata": {},
   "outputs": [
    {
     "name": "stdout",
     "output_type": "stream",
     "text": [
      "Total Bins Used 11\n",
      "Final Optimised Cost 1450\n",
      "Last updated time : 0.011978626251220703\n",
      "\n",
      "Bin type : 3 | Item ID : ['item9', 'item12', 'item2'] | Remaining Capacity :4\n",
      "\n",
      "Bin type : 2 | Item ID : ['item10', 'item7'] | Remaining Capacity :3\n",
      "\n",
      "Bin type : 3 | Item ID : ['item1', 'item15'] | Remaining Capacity :3\n",
      "\n",
      "Bin type : 2 | Item ID : ['item23', 'item18', 'item17', 'item14'] | Remaining Capacity :1\n",
      "\n",
      "Bin type : 3 | Item ID : ['item16', 'item5', 'item19'] | Remaining Capacity :4\n",
      "\n",
      "Bin type : 3 | Item ID : ['item25', 'item8'] | Remaining Capacity :12\n",
      "\n",
      "Bin type : 3 | Item ID : ['item20', 'item6'] | Remaining Capacity :9\n",
      "\n",
      "Bin type : 3 | Item ID : ['item21', 'item13'] | Remaining Capacity :9\n",
      "\n",
      "Bin type : 2 | Item ID : ['item3', 'item11'] | Remaining Capacity :9\n",
      "\n",
      "Bin type : 2 | Item ID : ['item24'] | Remaining Capacity :3\n",
      "\n",
      "Bin type : 3 | Item ID : ['item22', 'item4'] | Remaining Capacity :14\n",
      "\n"
     ]
    }
   ],
   "source": [
    "def N1N4():\n",
    "    x = GenerateInitialSolution()\n",
    "    # print(f\"Initial Bins Used {len(x.keys())}\")\n",
    "    # print(f\"Initial Cost {Cost(x)}\\n\")\n",
    "    # ValidateSolution(x)\n",
    "    finish = False\n",
    "    count = 0\n",
    "    c1, c2, c3 = 0, 1, 1\n",
    "    startTime = time.time()\n",
    "    while not finish:\n",
    "        #     # k = ChooseNeightbourhood(c1,c2,c3)\n",
    "        oldX = copy.deepcopy(x)\n",
    "        count += 1\n",
    "        x1 = Shaking(x, 1)\n",
    "        x2 = LocalSearch(x1)\n",
    "        # print(f\"Old Cost : {Cost(oldX)} New Cost : {Cost(x2)}\")\n",
    "        if (Cost(x2) < Cost(oldX)):\n",
    "            c1 += 1\n",
    "            updatedTime = time.time()\n",
    "            x = x2\n",
    "        else:\n",
    "            x = oldX\n",
    "        if (time.time() - startTime > 1):\n",
    "            finish = True\n",
    "    totalTime = updatedTime - startTime\n",
    "    print(f\"Total Bins Used {len(x.keys())}\")\n",
    "    print(f\"Final Optimised Cost {Cost(x)}\")\n",
    "    print(f\"Last updated time : {totalTime}\")\n",
    "    print(\"\")\n",
    "    ValidateSolution(x)\n",
    "\n",
    "    return Cost(x),totalTime\n",
    "\n",
    "N1N4_COST,N1N4_TIME = N1N4()"
   ]
  },
  {
   "cell_type": "code",
   "execution_count": 95,
   "metadata": {},
   "outputs": [
    {
     "name": "stdout",
     "output_type": "stream",
     "text": [
      "Total Bins Used 13\n",
      "Final Optimised Cost 1500\n",
      "Last updated time : 0.13856124877929688\n",
      "\n",
      "Bin type : 3 | Item ID : ['item3', 'item24'] | Remaining Capacity :1\n",
      "\n",
      "Bin type : 2 | Item ID : ['item4', 'item5'] | Remaining Capacity :6\n",
      "\n",
      "Bin type : 2 | Item ID : ['item9', 'item25'] | Remaining Capacity :20\n",
      "\n",
      "Bin type : 3 | Item ID : ['item10', 'item6'] | Remaining Capacity :7\n",
      "\n",
      "Bin type : 2 | Item ID : ['item13', 'item7'] | Remaining Capacity :8\n",
      "\n",
      "Bin type : 2 | Item ID : ['item14', 'item16'] | Remaining Capacity :9\n",
      "\n",
      "Bin type : 2 | Item ID : ['item15', 'item23'] | Remaining Capacity :2\n",
      "\n",
      "Bin type : 2 | Item ID : ['item17', 'item18', 'item12'] | Remaining Capacity :19\n",
      "\n",
      "Bin type : 2 | Item ID : ['item19', 'item11'] | Remaining Capacity :13\n",
      "\n",
      "Bin type : 3 | Item ID : ['item20', 'item2'] | Remaining Capacity :6\n",
      "\n",
      "Bin type : 2 | Item ID : ['item8'] | Remaining Capacity :5\n",
      "\n",
      "Bin type : 2 | Item ID : ['item21'] | Remaining Capacity :12\n",
      "\n",
      "Bin type : 3 | Item ID : ['item1', 'item22'] | Remaining Capacity :13\n",
      "\n"
     ]
    }
   ],
   "source": [
    "def OnlyN1():\n",
    "    # t0 = time.time()\n",
    "    x = GenerateInitialSolution()\n",
    "    # print(f\"Initial Bins Used {len(x.keys())}\")\n",
    "    # print(f\"Initial Cost {Cost(x)}\\n\")\n",
    "    # ValidateSolution(x)\n",
    "    \n",
    "    finish = False\n",
    "    count = 0\n",
    "    c1,c2,c3 = 0,1,1\n",
    "    startTime = time.time()\n",
    "    while not finish:\n",
    "    #     # k = ChooseNeightbourhood(c1,c2,c3)\n",
    "        oldX = copy.deepcopy(x)\n",
    "        count +=1\n",
    "        x1 = Shaking(x,1)\n",
    "        # print(f\"Old Cost : {Cost(oldX)} New Cost : {Cost(x1)}\")\n",
    "        if (Cost(x1) < Cost(oldX)):\n",
    "            c1+=1\n",
    "            updatedTime = time.time()\n",
    "            x = x1\n",
    "        else :\n",
    "            x = oldX\n",
    "        if (time.time() - startTime > 1):\n",
    "            finish = True\n",
    "    totalTime = updatedTime - startTime\n",
    "    print(f\"Total Bins Used {len(x.keys())}\")\n",
    "    print(f\"Final Optimised Cost {Cost(x)}\")\n",
    "    print(f\"Last updated time : {totalTime}\")\n",
    "    print(\"\")\n",
    "    ValidateSolution(x)\n",
    "\n",
    "    return Cost(x), totalTime\n",
    "\n",
    "N1_COST,N1_TIME = OnlyN1()"
   ]
  },
  {
   "cell_type": "code",
   "execution_count": 96,
   "metadata": {},
   "outputs": [
    {
     "name": "stdout",
     "output_type": "stream",
     "text": [
      "N1 | Cost = 1500 | Time = 0.13856124877929688\n",
      "N1 and N4 | Cost = 1450 | Time =0.011978626251220703\n"
     ]
    }
   ],
   "source": [
    "print(f\"N1 | Cost = {N1_COST} | Time = {N1_TIME}\")\n",
    "print(f\"N1 and N4 | Cost = {N1N4_COST} | Time ={N1N4_TIME}\")\n"
   ]
  }
 ],
 "metadata": {
  "kernelspec": {
   "display_name": "Python 3.11.2 64-bit",
   "language": "python",
   "name": "python3"
  },
  "language_info": {
   "codemirror_mode": {
    "name": "ipython",
    "version": 3
   },
   "file_extension": ".py",
   "mimetype": "text/x-python",
   "name": "python",
   "nbconvert_exporter": "python",
   "pygments_lexer": "ipython3",
   "version": "3.11.2"
  },
  "orig_nbformat": 4,
  "vscode": {
   "interpreter": {
    "hash": "edf5912d8e892f40cab73bd14fc1a3725848bbb4be6585525dee7e8965a83d20"
   }
  }
 },
 "nbformat": 4,
 "nbformat_minor": 2
}
